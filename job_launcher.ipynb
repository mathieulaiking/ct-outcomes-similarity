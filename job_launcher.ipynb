{
 "cells": [
  {
   "cell_type": "code",
   "execution_count": 36,
   "metadata": {},
   "outputs": [],
   "source": [
    "import os\n",
    "from lab_ia_slurm import gpu_jobs_submitter\n",
    "\n",
    "# project root path\n",
    "home = os.getenv(\"HOME\")\n",
    "root = os.path.join(home,\"miti_laiking/code/semantic_similarity\")"
   ]
  },
  {
   "cell_type": "markdown",
   "metadata": {},
   "source": [
    "## train_cross"
   ]
  },
  {
   "cell_type": "code",
   "execution_count": 37,
   "metadata": {},
   "outputs": [],
   "source": [
    "# Local Paths\n",
    "run_path = f\"{root}/fine-tuning/train_cross.py \"\n",
    "dataset_path = f\"{root}/data/ak-outcome-sim\"\n",
    "out_dir_template = f\"{root}/fine-tuning/out/{{exp_name}}\"\n",
    "# Different experiments Runs \n",
    "seed_nb = 1\n",
    "models = [\n",
    "    #\"microsoft/BiomedNLP-BiomedBERT-base-uncased-abstract\",\n",
    "    #\"microsoft/BiomedNLP-BiomedBERT-base-uncased-abstract-fulltext\",\n",
    "    \"michiyasunaga/BioLinkBERT-base\",\n",
    "]"
   ]
  },
  {
   "cell_type": "code",
   "execution_count": 38,
   "metadata": {},
   "outputs": [
    {
     "name": "stdout",
     "output_type": "stream",
     "text": [
      "0 : BioLinkBERT-base_cross-encoder_seed0\n",
      "python /mnt/beegfs/home/laiking/miti_laiking/code/semantic_similarity/fine-tuning/train_cross.py  /mnt/beegfs/home/laiking/miti_laiking/code/semantic_similarity/data/ak-outcome-sim michiyasunaga/BioLinkBERT-base /mnt/beegfs/home/laiking/miti_laiking/code/semantic_similarity/fine-tuning/out/BioLinkBERT-base_cross-encoder_seed0 /mnt/beegfs/home/laiking/miti_laiking/code/semantic_similarity/fine-tuning/out/BioLinkBERT-base_cross-encoder_seed0 --seed 0 \n"
     ]
    }
   ],
   "source": [
    "# Torchrun (distributed training) Arguments\n",
    "base_cmd = f\"python {run_path} \"\n",
    "base_cmd += f\"{dataset_path} \"\n",
    "\n",
    "cmds = []\n",
    "exp_names = []\n",
    "\n",
    "for model_path in models :\n",
    "    for seed in range(seed_nb):\n",
    "        cmd = base_cmd\n",
    "        # Model\n",
    "        cmd += f\"{model_path} \"\n",
    "        # Experience name for output directory\n",
    "        exp_name = f\"{model_path.split('/')[-1]}_cross-encoder\"\n",
    "        exp_name += f\"_seed{seed}\"\n",
    "        out_dir = out_dir_template.format(exp_name=exp_name)\n",
    "        # Output dirs\n",
    "        cmd += f\"{out_dir} \" # model_save_path\n",
    "        cmd += f\"{out_dir} \" # test_save_path\n",
    "        # Seed\n",
    "        cmd += f\"--seed {seed} \"\n",
    "        # fill lists\n",
    "        if os.path.exists(os.path.join(out_dir,\"predict_results.json\")):\n",
    "            print(exp_name, \"already finished\")\n",
    "            continue\n",
    "        cmds.append(cmd)\n",
    "        exp_names.append(exp_name)\n",
    "\n",
    "# Display experiences and chosen debug\n",
    "for i,e in enumerate(exp_names):\n",
    "    print(i,\":\",e)\n",
    "print(cmds[0])"
   ]
  },
  {
   "cell_type": "code",
   "execution_count": 39,
   "metadata": {},
   "outputs": [
    {
     "name": "stdout",
     "output_type": "stream",
     "text": [
      "Submitted batch job 744930\n",
      "1 GPUs / 4 cpus per task\n"
     ]
    }
   ],
   "source": [
    "counter = 0\n",
    "script_addon = \"\"\"find . -type f -exec chown :miti_laiking {} +\"\"\"\n",
    "for cmd,exp_name in zip(cmds, exp_names) :   \n",
    "    if counter > 10: break\n",
    "    # send job\n",
    "    job_ids = gpu_jobs_submitter(\n",
    "        cmd,\n",
    "        exp_name = exp_name,\n",
    "        time_max=\"24:00:00\",\n",
    "        script_addon=script_addon\n",
    "    )\n",
    "    counter+= 1"
   ]
  },
  {
   "cell_type": "code",
   "execution_count": 41,
   "metadata": {},
   "outputs": [
    {
     "name": "stdout",
     "output_type": "stream",
     "text": [
      "             JOBID PARTITION     NAME     USER ST       TIME  NODES NODELIST(REASON)\n",
      "            744930       all BioLinkB  laiking  R      36:56      1 n1\n"
     ]
    }
   ],
   "source": [
    "!squeue -u laiking"
   ]
  },
  {
   "cell_type": "code",
   "execution_count": 4,
   "metadata": {},
   "outputs": [],
   "source": [
    "!scancel -u laiking"
   ]
  },
  {
   "cell_type": "code",
   "execution_count": 35,
   "metadata": {},
   "outputs": [],
   "source": [
    "# delete slurm files\n",
    "!rm -rf slurm/*.slurm\n",
    "!rm -rf **/.ipynb_checkpoints"
   ]
  },
  {
   "cell_type": "markdown",
   "metadata": {},
   "source": [
    "## train_cross_hf"
   ]
  },
  {
   "cell_type": "markdown",
   "metadata": {},
   "source": []
  }
 ],
 "metadata": {
  "kernelspec": {
   "display_name": "base",
   "language": "python",
   "name": "python3"
  },
  "language_info": {
   "codemirror_mode": {
    "name": "ipython",
    "version": 3
   },
   "file_extension": ".py",
   "mimetype": "text/x-python",
   "name": "python",
   "nbconvert_exporter": "python",
   "pygments_lexer": "ipython3",
   "version": "3.12.2"
  }
 },
 "nbformat": 4,
 "nbformat_minor": 2
}
